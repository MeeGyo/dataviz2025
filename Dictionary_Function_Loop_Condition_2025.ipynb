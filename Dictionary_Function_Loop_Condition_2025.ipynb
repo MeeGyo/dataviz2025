{
  "nbformat": 4,
  "nbformat_minor": 0,
  "metadata": {
    "kernelspec": {
      "display_name": "Python 3",
      "language": "python",
      "name": "python3"
    },
    "language_info": {
      "codemirror_mode": {
        "name": "ipython",
        "version": 3
      },
      "file_extension": ".py",
      "mimetype": "text/x-python",
      "name": "python",
      "nbconvert_exporter": "python",
      "pygments_lexer": "ipython3",
      "version": "3.7.4"
    },
    "colab": {
      "provenance": [],
      "toc_visible": true,
      "include_colab_link": true
    }
  },
  "cells": [
    {
      "cell_type": "markdown",
      "metadata": {
        "id": "view-in-github",
        "colab_type": "text"
      },
      "source": [
        "<a href=\"https://colab.research.google.com/github/MeeGyo/dataviz2025/blob/main/Dictionary_Function_Loop_Condition_2025.ipynb\" target=\"_parent\"><img src=\"https://colab.research.google.com/assets/colab-badge.svg\" alt=\"Open In Colab\"/></a>"
      ]
    },
    {
      "cell_type": "markdown",
      "source": [
        "ภาวิณี หน่อสีดา 663020288-2"
      ],
      "metadata": {
        "id": "juoDivSVS1xe"
      }
    },
    {
      "cell_type": "markdown",
      "source": [
        "HW1 note"
      ],
      "metadata": {
        "id": "2wnVRxt7Qw8x"
      }
    },
    {
      "cell_type": "code",
      "source": [
        "inp = '12:30:15-13:41:07'\n",
        "inp_list = inp.split('-')\n",
        "inp_list"
      ],
      "metadata": {
        "colab": {
          "base_uri": "https://localhost:8080/"
        },
        "id": "7b9PZ1gTQ0EA",
        "outputId": "b9f21012-312d-450a-dec1-1ecc4893a91c"
      },
      "execution_count": null,
      "outputs": [
        {
          "output_type": "execute_result",
          "data": {
            "text/plain": [
              "['12:30:15', '13:41:07']"
            ]
          },
          "metadata": {},
          "execution_count": 1
        }
      ]
    },
    {
      "cell_type": "markdown",
      "source": [
        "# Dictionary"
      ],
      "metadata": {
        "id": "KCnQ0oSTSJO-"
      }
    },
    {
      "cell_type": "code",
      "source": [
        "dict_a = {'abc':123,'def':456,'ghi':789}"
      ],
      "metadata": {
        "id": "jp4_o-f_SMH_"
      },
      "execution_count": null,
      "outputs": []
    },
    {
      "cell_type": "code",
      "source": [
        "print(dict_a)"
      ],
      "metadata": {
        "colab": {
          "base_uri": "https://localhost:8080/"
        },
        "id": "bRl0yAkZSsgY",
        "outputId": "d798304e-8e3e-48bb-938b-e845fbce1ab7"
      },
      "execution_count": null,
      "outputs": [
        {
          "output_type": "stream",
          "name": "stdout",
          "text": [
            "{'abc': 123, 'def': 456, 'ghi': 789}\n"
          ]
        }
      ]
    },
    {
      "cell_type": "code",
      "source": [
        "dict_a['def']"
      ],
      "metadata": {
        "colab": {
          "base_uri": "https://localhost:8080/"
        },
        "id": "Srs9iqTHS8jW",
        "outputId": "f9420558-e3f3-40e1-b38e-e1445ada9cbd"
      },
      "execution_count": null,
      "outputs": [
        {
          "output_type": "execute_result",
          "data": {
            "text/plain": [
              "456"
            ]
          },
          "metadata": {},
          "execution_count": 4
        }
      ]
    },
    {
      "cell_type": "code",
      "source": [
        "dict_b = {}"
      ],
      "metadata": {
        "id": "pzAgTizwTXMR"
      },
      "execution_count": null,
      "outputs": []
    },
    {
      "cell_type": "code",
      "source": [
        "dict_b['a'] = 567 #ถ้า run เรื่อยๆ list add ไปเรื่อยๆ but Dict ทับค่าเดิมไปเลย"
      ],
      "metadata": {
        "id": "bqKK5yP1TcbC"
      },
      "execution_count": null,
      "outputs": []
    },
    {
      "cell_type": "code",
      "source": [
        "dict_b"
      ],
      "metadata": {
        "colab": {
          "base_uri": "https://localhost:8080/"
        },
        "id": "wTUy8m2NTjvi",
        "outputId": "f0e57a7a-a310-4d46-ef9e-254ab72606fb"
      },
      "execution_count": null,
      "outputs": [
        {
          "output_type": "execute_result",
          "data": {
            "text/plain": [
              "{'a': 567, 'b': 123}"
            ]
          },
          "metadata": {},
          "execution_count": 12
        }
      ]
    },
    {
      "cell_type": "markdown",
      "source": [
        "## การ add สมาชิกเข้าไปใน dict"
      ],
      "metadata": {
        "id": "tiFCR6wLUMFz"
      }
    },
    {
      "cell_type": "code",
      "source": [
        "if 'b' not in dict_b:\n",
        "    dict_b['b'] = 123"
      ],
      "metadata": {
        "id": "VioxkqDzUUvv"
      },
      "execution_count": null,
      "outputs": []
    },
    {
      "cell_type": "code",
      "source": [
        "dict_b"
      ],
      "metadata": {
        "colab": {
          "base_uri": "https://localhost:8080/"
        },
        "id": "RuD3t9H4Uiru",
        "outputId": "f3549768-c616-4cc1-94da-ec11b45b735c"
      },
      "execution_count": null,
      "outputs": [
        {
          "output_type": "execute_result",
          "data": {
            "text/plain": [
              "{'a': 567, 'b': 123}"
            ]
          },
          "metadata": {},
          "execution_count": 14
        }
      ]
    },
    {
      "cell_type": "markdown",
      "metadata": {
        "id": "-57L9aVubPqU"
      },
      "source": [
        "# Function"
      ]
    },
    {
      "cell_type": "markdown",
      "metadata": {
        "id": "1DNzYhO4bPqb"
      },
      "source": [
        "## Function template\n",
        "#### ทำหน้าที่รับ input มาประมวณผลออกมาเป็น output\n",
        "#### f(x) = y"
      ]
    },
    {
      "cell_type": "markdown",
      "metadata": {
        "id": "3Nv1ZDEKbPqc"
      },
      "source": [
        "### def คือการกำหนดฟังก์ชัน"
      ]
    },
    {
      "cell_type": "markdown",
      "metadata": {
        "id": "DbHDoWEabPqc"
      },
      "source": [
        "```python\n",
        "    def function_name(_Input_) :\n",
        "        do_something with _Input_ to get _Output_\n",
        "        return _Output_\n",
        "```"
      ]
    },
    {
      "cell_type": "markdown",
      "metadata": {
        "id": "1fuimreqpVhU"
      },
      "source": [
        "เราใช้ เว้นวรรค (indent) เพื่อบอกขอบเขตของโปรแกรม"
      ]
    },
    {
      "cell_type": "markdown",
      "metadata": {
        "id": "kh2M1smCl5Iv"
      },
      "source": [
        "function มีส่วนสำคัญทั้งหมด 4 ส่วน\n",
        "\n",
        "1.   บอก python ว่าเราจะเขียนฟังก์ชั่น ชื่ออะไร  ```def function_name():``` (ขาดไม่ได้)\n",
        "2.   กำหนดตัวแปรที่จะเป็น input  ```_Input_``` (ขาดได้)\n",
        "3.   ส่วนประมวลผล ```do_something with _Input_ to get _Output_``` (ขาดไม่ได้)\n",
        "4.   ส่วน output ```return _Output_```(ขาดได้)\n",
        "\n"
      ]
    },
    {
      "cell_type": "markdown",
      "metadata": {
        "id": "lqWzVN5AbPqc"
      },
      "source": [
        "#### ตัวอย่างการเขียน normal function\n"
      ]
    },
    {
      "cell_type": "code",
      "source": [
        "def print_myname():   # ตัวอย่าง function ที่ไม่มีทั้ง input และ output\n",
        "    print('Pawinee')"
      ],
      "metadata": {
        "id": "6wzfVo_pTefO"
      },
      "execution_count": null,
      "outputs": []
    },
    {
      "cell_type": "code",
      "source": [
        "print_myname()"
      ],
      "metadata": {
        "colab": {
          "base_uri": "https://localhost:8080/"
        },
        "id": "482E9UnsUMkC",
        "outputId": "657d6145-70f7-4375-94bd-b3138b4c1067"
      },
      "execution_count": null,
      "outputs": [
        {
          "output_type": "stream",
          "name": "stdout",
          "text": [
            "Pawinee\n"
          ]
        }
      ]
    },
    {
      "cell_type": "code",
      "metadata": {
        "id": "n706WULobPqc"
      },
      "source": [
        "def print_name(name):        # ตัวอย่าง function ที่ มี input หลายตัว กับ output 1 ตัว\n",
        "    st = f'ชื่อ {name}'\n",
        "    return st"
      ],
      "execution_count": null,
      "outputs": []
    },
    {
      "cell_type": "code",
      "metadata": {
        "colab": {
          "base_uri": "https://localhost:8080/",
          "height": 36
        },
        "id": "muh0pi_Gkym8",
        "outputId": "612ff824-f356-44ef-c8b1-0ce56a0b12c8"
      },
      "source": [
        "print_name('ภาวิณี')"
      ],
      "execution_count": null,
      "outputs": [
        {
          "output_type": "execute_result",
          "data": {
            "text/plain": [
              "'ชื่อ ภาวิณี'"
            ],
            "application/vnd.google.colaboratory.intrinsic+json": {
              "type": "string"
            }
          },
          "metadata": {},
          "execution_count": 21
        }
      ]
    },
    {
      "cell_type": "code",
      "source": [
        "a = print_name('ภาวิณี')"
      ],
      "metadata": {
        "id": "jXLKXL2lXTnE"
      },
      "execution_count": null,
      "outputs": []
    },
    {
      "cell_type": "code",
      "source": [
        "a"
      ],
      "metadata": {
        "colab": {
          "base_uri": "https://localhost:8080/",
          "height": 36
        },
        "id": "Es0Z5MaAXWJD",
        "outputId": "2f5bd5f3-8a7c-41b3-b07b-2ddd89c4c71d"
      },
      "execution_count": null,
      "outputs": [
        {
          "output_type": "execute_result",
          "data": {
            "text/plain": [
              "'ชื่อ ภาวิณี'"
            ],
            "application/vnd.google.colaboratory.intrinsic+json": {
              "type": "string"
            }
          },
          "metadata": {},
          "execution_count": 24
        }
      ]
    },
    {
      "cell_type": "code",
      "source": [
        "print_name(name='กาญจนา',surname='ประสาคุณ',ID='603021855-2')"
      ],
      "metadata": {
        "colab": {
          "base_uri": "https://localhost:8080/",
          "height": 56
        },
        "id": "vxooaHuHVTDJ",
        "outputId": "25d27066-d51d-471b-f2df-e71d92bc0faf"
      },
      "execution_count": null,
      "outputs": [
        {
          "output_type": "execute_result",
          "data": {
            "text/plain": [
              "'ชื่อ กาญจนา นามสกุล ประสาคุณ รหัส 603021855-2'"
            ],
            "application/vnd.google.colaboratory.intrinsic+json": {
              "type": "string"
            }
          },
          "metadata": {},
          "execution_count": 6
        }
      ]
    },
    {
      "cell_type": "code",
      "metadata": {
        "id": "loNAFSvLo5dC"
      },
      "source": [
        "def print_fullname(surname,ID,name):\n",
        "    st = f'ชื่อ {name} นามสกุล {surname} รหัส {ID}'\n",
        "    return(st)"
      ],
      "execution_count": null,
      "outputs": []
    },
    {
      "cell_type": "code",
      "source": [
        "print_fullname('หน่อสีดา','663020288-2','ภาวิณี')"
      ],
      "metadata": {
        "colab": {
          "base_uri": "https://localhost:8080/",
          "height": 36
        },
        "id": "bFWAdx7NYbsG",
        "outputId": "48be5f23-b0c1-4540-e192-2888c4385050"
      },
      "execution_count": null,
      "outputs": [
        {
          "output_type": "execute_result",
          "data": {
            "text/plain": [
              "'ชื่อ ภาวิณี นามสกุล หน่อสีดา รหัส 663020288-2'"
            ],
            "application/vnd.google.colaboratory.intrinsic+json": {
              "type": "string"
            }
          },
          "metadata": {},
          "execution_count": 31
        }
      ]
    },
    {
      "cell_type": "code",
      "metadata": {
        "colab": {
          "base_uri": "https://localhost:8080/",
          "height": 36
        },
        "id": "JE88oCj8o_j_",
        "outputId": "8051b926-4412-4ac0-8131-9b9c8105f50a"
      },
      "source": [
        "print_fullname(name='ภาวิณี',surname='หน่อสีดา',ID='663020288-2')"
      ],
      "execution_count": null,
      "outputs": [
        {
          "output_type": "execute_result",
          "data": {
            "text/plain": [
              "'ชื่อ ภาวิณี นามสกุล หน่อสีดา รหัส 663020288-2'"
            ],
            "application/vnd.google.colaboratory.intrinsic+json": {
              "type": "string"
            }
          },
          "metadata": {},
          "execution_count": 32
        }
      ]
    },
    {
      "cell_type": "markdown",
      "metadata": {
        "id": "tSV-FUQBpx0i"
      },
      "source": [
        "ฟังก์ชั่นไม่จำเป็นต้องมี output"
      ]
    },
    {
      "cell_type": "code",
      "source": [
        "def print_fullname2(surname,ID,name):\n",
        "    st = f'ชื่อ {name} นามสกุล {surname} รหัส {ID}'\n",
        "    print(st)"
      ],
      "metadata": {
        "id": "AxaFuq6aYm5q"
      },
      "execution_count": null,
      "outputs": []
    },
    {
      "cell_type": "code",
      "source": [
        "print_fullname2(name='ภาวิณี',surname='หน่อสีดา',ID='663020288-2')"
      ],
      "metadata": {
        "colab": {
          "base_uri": "https://localhost:8080/"
        },
        "id": "ecO518L1ZLet",
        "outputId": "c09d761c-fd29-4a26-83e7-a16bfe628bf6"
      },
      "execution_count": null,
      "outputs": [
        {
          "output_type": "stream",
          "name": "stdout",
          "text": [
            "ชื่อ ภาวิณี นามสกุล หน่อสีดา รหัส 663020288-2\n"
          ]
        }
      ]
    },
    {
      "cell_type": "markdown",
      "source": [
        "### ข้อแตกต่างระหว่าง function ที่มีและไม่มี output"
      ],
      "metadata": {
        "id": "dW328wxLWauv"
      }
    },
    {
      "cell_type": "code",
      "source": [
        "out_printname1 = print_fullname2(name='กาญจนา',surname='ประสาคุณ',ID='603021855-2') # มี output\n",
        "print(out_printname1)"
      ],
      "metadata": {
        "colab": {
          "base_uri": "https://localhost:8080/"
        },
        "id": "Ae6C6-DTWFOD",
        "outputId": "88e4d3d0-d9c3-4fc5-d877-426fadfae449"
      },
      "execution_count": null,
      "outputs": [
        {
          "output_type": "stream",
          "name": "stdout",
          "text": [
            "ชื่อ กาญจนา นามสกุล ประสาคุณ รหัส 603021855-2\n",
            "None\n"
          ]
        }
      ]
    },
    {
      "cell_type": "code",
      "source": [
        "out_printname1"
      ],
      "metadata": {
        "id": "yPtH94N0WtsE"
      },
      "execution_count": null,
      "outputs": []
    },
    {
      "cell_type": "code",
      "source": [
        "out_printname2 = print_name2(name='กาญจนา',surname='ประสาคุณ',ID='603021855-2')  # ไม่มี output\n",
        "print(out_printname2)"
      ],
      "metadata": {
        "colab": {
          "base_uri": "https://localhost:8080/"
        },
        "id": "AbT5pKVYWRBn",
        "outputId": "d619cbf9-07d3-42d4-da68-4fff4f6277b8"
      },
      "execution_count": null,
      "outputs": [
        {
          "output_type": "stream",
          "name": "stdout",
          "text": [
            "ชื่อ กาญจนา นามสกุล ประสาคุณ รหัส 603021855-2\n",
            "None\n"
          ]
        }
      ]
    },
    {
      "cell_type": "code",
      "source": [
        "out_printname2"
      ],
      "metadata": {
        "id": "l_fW68dyXDw3"
      },
      "execution_count": null,
      "outputs": []
    },
    {
      "cell_type": "markdown",
      "metadata": {
        "id": "JF4RdyEBqPyl"
      },
      "source": [
        "ฟังก์ชั่นไม่จำเป็นต้องมี input"
      ]
    },
    {
      "cell_type": "code",
      "metadata": {
        "id": "LNb_o_ZXo_gh"
      },
      "source": [
        "def Pi():\n",
        "    return 3.14159265359"
      ],
      "execution_count": null,
      "outputs": []
    },
    {
      "cell_type": "code",
      "metadata": {
        "colab": {
          "base_uri": "https://localhost:8080/"
        },
        "id": "htN6zLbFo_dr",
        "outputId": "4e015946-8d9d-4f9b-8b59-dc5ff0c325f8"
      },
      "source": [
        "Pi()*(2**2) # หาพื้นที่ของวงกลมที่มีรัศมีเท่ากับ Pi * r^2"
      ],
      "execution_count": null,
      "outputs": [
        {
          "output_type": "execute_result",
          "data": {
            "text/plain": [
              "12.56637061436"
            ]
          },
          "metadata": {
            "tags": []
          },
          "execution_count": 16
        }
      ]
    },
    {
      "cell_type": "markdown",
      "metadata": {
        "id": "ywc0Ho-_rUTu"
      },
      "source": [
        "## เราสามารถกำหนดค่า default ให้กับ input ของฟังก์ชั่นได้"
      ]
    },
    {
      "cell_type": "markdown",
      "metadata": {
        "id": "y_74dHkjxS7f"
      },
      "source": [
        "input ของ function ใน python มีสองแบบ input ที่จำเป็นต้องใส่ กับ input ที่ไม่จำเป็นต้องใส่ (มีค่า default)\n",
        "\n",
        "เราต้องเรียง input ที่จำเป็นต้องใส่ขึ้นก่อน"
      ]
    },
    {
      "cell_type": "code",
      "metadata": {
        "id": "0Lrh-6mAo_bA"
      },
      "source": [
        "def print_2lines_default(name,surname,ID,grade='F'):\n",
        "    st = f'ชื่อ {name} นามสกุล {surname} รหัส {ID}'\n",
        "    print (st)\n",
        "    st2=f'เกรดวิชา Data Viz >>> {grade}'\n",
        "    print(st2)"
      ],
      "execution_count": null,
      "outputs": []
    },
    {
      "cell_type": "code",
      "metadata": {
        "colab": {
          "base_uri": "https://localhost:8080/"
        },
        "id": "ZH31VIjko_WP",
        "outputId": "a2608be2-4fb3-4d4a-ee0d-1d9243711f77"
      },
      "source": [
        "print_2lines_default('ภาวิณี','หน่อสีดา','663020288-2')"
      ],
      "execution_count": null,
      "outputs": [
        {
          "output_type": "stream",
          "name": "stdout",
          "text": [
            "ชื่อ ภาวิณี นามสกุล หน่อสีดา รหัส 663020288-2\n",
            "เกรดวิชา Data Viz >>> F\n"
          ]
        }
      ]
    },
    {
      "cell_type": "code",
      "metadata": {
        "colab": {
          "base_uri": "https://localhost:8080/"
        },
        "id": "FKGr2Iyuo_S2",
        "outputId": "8c5de92b-eff2-452f-bfcb-5ae462f49d7e"
      },
      "source": [
        "print_2lines_default('ภาวิณี','หน่อสีดา','663020288-2','A')"
      ],
      "execution_count": null,
      "outputs": [
        {
          "output_type": "stream",
          "name": "stdout",
          "text": [
            "ชื่อ ภาวิณี นามสกุล หน่อสีดา รหัส 663020288-2\n",
            "เกรดวิชา Data Viz >>> A\n"
          ]
        }
      ]
    },
    {
      "cell_type": "code",
      "source": [
        "print_2lines_default('ภาวิณี','หน่อสีดา','663020288-2',grade = 'A')"
      ],
      "metadata": {
        "colab": {
          "base_uri": "https://localhost:8080/"
        },
        "id": "Au_P2Cm8ZDXL",
        "outputId": "dae81d80-cd07-452e-ac9b-a3004c32e277"
      },
      "execution_count": null,
      "outputs": [
        {
          "output_type": "stream",
          "name": "stdout",
          "text": [
            "ชื่อ ภาวิณี นามสกุล หน่อสีดา รหัส 663020288-2\n",
            "เกรดวิชา Data Viz >>> A\n"
          ]
        }
      ]
    },
    {
      "cell_type": "code",
      "source": [
        "print_2lines_default('ภาวิณี','หน่อสีดา') #ขาด ID"
      ],
      "metadata": {
        "colab": {
          "base_uri": "https://localhost:8080/",
          "height": 146
        },
        "id": "cLGa_pO1Zv1U",
        "outputId": "a91e8c3c-c728-4949-c6d7-d228333971e4"
      },
      "execution_count": null,
      "outputs": [
        {
          "output_type": "error",
          "ename": "TypeError",
          "evalue": "print_2lines_default() missing 1 required positional argument: 'ID'",
          "traceback": [
            "\u001b[0;31m---------------------------------------------------------------------------\u001b[0m",
            "\u001b[0;31mTypeError\u001b[0m                                 Traceback (most recent call last)",
            "\u001b[0;32m/tmp/ipython-input-47-3016423979.py\u001b[0m in \u001b[0;36m<cell line: 0>\u001b[0;34m()\u001b[0m\n\u001b[0;32m----> 1\u001b[0;31m \u001b[0mprint_2lines_default\u001b[0m\u001b[0;34m(\u001b[0m\u001b[0;34m'ภาวิณี'\u001b[0m\u001b[0;34m,\u001b[0m\u001b[0;34m'หน่อสีดา'\u001b[0m\u001b[0;34m)\u001b[0m\u001b[0;34m\u001b[0m\u001b[0;34m\u001b[0m\u001b[0m\n\u001b[0m",
            "\u001b[0;31mTypeError\u001b[0m: print_2lines_default() missing 1 required positional argument: 'ID'"
          ]
        }
      ]
    },
    {
      "cell_type": "markdown",
      "source": [
        "# Quiz3\n",
        "เขียน function ที่รับ input 1 ตัว ตาม format hh1:mm1:ss1 - hh2:mm2:ss2 และคำนวณหา ช่วงเวลาเป็นวินาที ที่ห่างกันระหว่า time1 และ time2 โดยยังไม่ต้องสนใจว่า time2 สามารถข้ามไปอีกวันได้"
      ],
      "metadata": {
        "id": "Alh7JMwDa1k1"
      }
    },
    {
      "cell_type": "code",
      "source": [
        "def cal_dif_secs(timeinput):\n",
        "    timelist = timeinput.split('-')\n",
        "    time1 = timelist[0].split(':')\n",
        "    time2 = timelist[1].split(':')\n",
        "    time1_sec = int(time1[0])*3600 + int(time1[1])*60 + int(time1[2])\n",
        "    time2_sec = int(time2[0])*3600 + int(time2[1])*60 + int(time2[2])\n",
        "    dif_sec = time2_sec - time1_sec\n",
        "    return dif_sec"
      ],
      "metadata": {
        "id": "Y_cPWPKzewFM"
      },
      "execution_count": null,
      "outputs": []
    },
    {
      "cell_type": "code",
      "source": [
        "cal_dif_secs('12:30:15-13:41:07')"
      ],
      "metadata": {
        "colab": {
          "base_uri": "https://localhost:8080/"
        },
        "id": "1lO3BaYJfUuF",
        "outputId": "e85344df-baad-4dd5-9955-684fd865cdfc"
      },
      "execution_count": null,
      "outputs": [
        {
          "output_type": "execute_result",
          "data": {
            "text/plain": [
              "4252"
            ]
          },
          "metadata": {},
          "execution_count": 19
        }
      ]
    },
    {
      "cell_type": "markdown",
      "source": [
        "# Quiz5\n",
        "\n",
        "เขียน function ของ HW2\n",
        "\n",
        "commit \"quiz5\""
      ],
      "metadata": {
        "id": "DT-Ii6SXbDHS"
      }
    },
    {
      "cell_type": "code",
      "source": [
        "#ใน colab เขียน function คำนวณวินาทีจากวันเวลาที่ใส่เข้ามา 12:30:15, Wednesday - 13:41:07, Thursday 12:53:15, Monday - 00:59:25, Tuesday 16:06:09, Sunday - 11:11:11, Tuesday\n",
        "def get_seconds_diff(start_str, end_str):\n",
        "    \"\"\"\n",
        "    คำนวณจำนวนวินาทีระหว่างวันเวลาเริ่มต้นและสิ้นสุดในรูปแบบ \"HH:MM:SS, DayOfWeek\"\n",
        "    โดยไม่ใช้โมดูล datetime, ไม่ใช้ฟังก์ชัน map, และไม่ใช้ dictionary สำหรับ day_map\n",
        "\n",
        "    Args:\n",
        "        start_str (str): สตริงวันเวลาเริ่มต้น\n",
        "        end_str (str): สตริงวันเวลาสิ้นสุด\n",
        "\n",
        "    Returns:\n",
        "        int: จำนวนวินาทีทั้งหมด หรือ None หากเกิดข้อผิดพลาด\n",
        "    \"\"\"\n",
        "    sec_in_day = 24 * 3600 # วินาทีใน 1 วัน\n",
        "\n",
        "    def get_day_number(day_name):\n",
        "        # แปลงชื่อวันในสัปดาห์เป็นตัวเลข (0=Monday, 6=Sunday)\n",
        "        if day_name == \"Monday\": return 0\n",
        "        elif day_name == \"Tuesday\": return 1\n",
        "        elif day_name == \"Wednesday\": return 2\n",
        "        elif day_name == \"Thursday\": return 3\n",
        "        elif day_name == \"Friday\": return 4\n",
        "        elif day_name == \"Saturday\": return 5\n",
        "        elif day_name == \"Sunday\": return 6\n",
        "        else: return -1 # ค่าผิดพลาด\n",
        "\n",
        "    try:\n",
        "        def parse_time_to_total_seconds(time_day_string):\n",
        "            # แยกส่วนเวลาและส่วนวัน\n",
        "            parts = time_day_string.split(', ')\n",
        "            time_part = parts[0]\n",
        "            day_part = parts[1]\n",
        "\n",
        "            # แยกชั่วโมง นาที วินาทีด้วยการค้นหาตำแหน่ง ':'\n",
        "            first_colon_idx = -1\n",
        "            second_colon_idx = -1\n",
        "            for i, char in enumerate(time_part):\n",
        "                if char == ':':\n",
        "                    if first_colon_idx == -1:\n",
        "                        first_colon_idx = i\n",
        "                    else:\n",
        "                        second_colon_idx = i\n",
        "                        break\n",
        "\n",
        "            # ดึงส่วนของชั่วโมง นาที วินาทีออกมา\n",
        "            h_str = time_part[0:first_colon_idx]\n",
        "            m_str = time_part[first_colon_idx+1:second_colon_idx]\n",
        "            s_str = time_part[second_colon_idx+1:]\n",
        "\n",
        "            # แปลงเป็นจำนวนเต็ม\n",
        "            h = int(h_str)\n",
        "            m = int(m_str)\n",
        "            s = int(s_str)\n",
        "\n",
        "            # คำนวณวินาทีรวมจากเริ่มต้นสัปดาห์\n",
        "            day_num = get_day_number(day_part)\n",
        "            if day_num == -1: # ตรวจสอบวันไม่ถูกต้อง\n",
        "                raise ValueError(f\"ชื่อวันไม่ถูกต้อง: {day_part}\")\n",
        "\n",
        "            return day_num * sec_in_day + h * 3600 + m * 60 + s\n",
        "\n",
        "        start_total_seconds = parse_time_to_total_seconds(start_str)\n",
        "        end_total_seconds = parse_time_to_total_seconds(end_str)\n",
        "\n",
        "        # จัดการกรณีที่เวลาสิ้นสุดน้อยกว่าเวลาเริ่มต้น (ข้ามสัปดาห์)\n",
        "        if end_total_seconds < start_total_seconds:\n",
        "            end_total_seconds += 7 * sec_in_day\n",
        "\n",
        "        return end_total_seconds - start_total_seconds\n",
        "\n",
        "    except (ValueError, IndexError) as e:\n",
        "        print(f\"เกิดข้อผิดพลาดในการประมวลผลข้อมูล: {e}\")\n",
        "        return None"
      ],
      "metadata": {
        "id": "fhXVwwBdbSLa"
      },
      "execution_count": null,
      "outputs": []
    },
    {
      "cell_type": "code",
      "source": [
        "# ตัวอย่างที่ 1: 12:30:15, Wednesday - 13:41:07, Thursday\n",
        "print(f'ช่วงเวลาคือ {get_seconds_diff(\"12:30:15, Wednesday\", \"13:41:07, Thursday\")} วินาที')"
      ],
      "metadata": {
        "colab": {
          "base_uri": "https://localhost:8080/"
        },
        "id": "FycXMYQCchkF",
        "outputId": "33c0ecc4-adfb-4751-e3cc-135448b59027"
      },
      "execution_count": null,
      "outputs": [
        {
          "output_type": "stream",
          "name": "stdout",
          "text": [
            "ช่วงเวลาคือ 90652 วินาที\n"
          ]
        }
      ]
    },
    {
      "cell_type": "markdown",
      "source": [
        "# Quiz 6\n",
        "\n",
        "เขียน function ของ HW2 มีการใช้ค่า default ของ input โดยถ้าวันที่กรอกเป็นวันเดียวกันให้ไม่ต้องกรอกเลยหรือกรอกแค่ 1 ตัว"
      ],
      "metadata": {
        "id": "X8JrOTt_fqsA"
      }
    },
    {
      "cell_type": "code",
      "source": [
        "def get_time_diff_with_days(start_str, end_str=None):\n",
        "    \"\"\"\n",
        "    คำนวณจำนวนวินาทีและจำนวนวันระหว่างวันเวลาเริ่มต้นและสิ้นสุด\n",
        "    โดยมีค่า default สำหรับ end_str และรองรับการกรอกอินพุตเพียงตัวเดียว\n",
        "    ในกรณีที่เป็นวันเดียวกัน หรือต้องการคำนวณถึงเวลาปัจจุบัน\n",
        "\n",
        "    Args:\n",
        "        start_str (str): สตริงวันเวลาเริ่มต้นในรูปแบบ \"HH:MM:SS, DayOfWeek\"\n",
        "                         หรือ \"HH:MM:SS\" (ถ้าเป็นเวลาในวันเดียวกัน)\n",
        "        end_str (str, optional): สตริงวันเวลาสิ้นสุดในรูปแบบ \"HH:MM:SS, DayOfWeek\"\n",
        "                                  หรือ \"HH:MM:SS\" (ถ้าเป็นเวลาในวันเดียวกัน)\n",
        "                                  หากไม่ระบุ (None) จะคำนวณจาก start_str ถึงเวลาปัจจุบัน\n",
        "\n",
        "    Returns:\n",
        "        tuple: (จำนวนวินาทีทั้งหมด, จำนวนวันทั้งหมด) หรือ None หากเกิดข้อผิดพลาด\n",
        "    \"\"\"\n",
        "    sec_in_day = 24 * 3600 # วินาทีใน 1 วัน\n",
        "\n",
        "    def get_day_number(day_name_input):\n",
        "        # แปลงชื่อวันในสัปดาห์เป็นตัวเลข (0=Monday, 6=Sunday)\n",
        "        if day_name_input == \"Monday\": return 0\n",
        "        elif day_name_input == \"Tuesday\": return 1\n",
        "        elif day_name_input == \"Wednesday\": return 2\n",
        "        elif day_name_input == \"Thursday\": return 3\n",
        "        elif day_name_input == \"Friday\": return 4\n",
        "        elif day_name_input == \"Saturday\": return 5\n",
        "        elif day_name_input == \"Sunday\": return 6\n",
        "        else: return -1 # ค่าผิดพลาด\n",
        "\n",
        "    def parse_time_to_total_seconds(time_day_string, current_day_num=None):\n",
        "        # ตรวจสอบว่าอินพุตมีวันในสัปดาห์ระบุมาด้วยหรือไม่\n",
        "        if ', ' in time_day_string:\n",
        "            parts = time_day_string.split(', ')\n",
        "            time_part = parts[0]\n",
        "            day_part = parts[1]\n",
        "            day_num = get_day_number(day_part)\n",
        "            if day_num == -1:\n",
        "                raise ValueError(f\"ชื่อวันไม่ถูกต้อง: {day_part}\")\n",
        "        else:\n",
        "            # ถ้าไม่มีวันในสัปดาห์ระบุมา ให้ใช้ day_num ที่ส่งมา (จากเวลาปัจจุบัน)\n",
        "            # หรือถือว่าเป็นวันเดียวกันกับ start_str\n",
        "            time_part = time_day_string\n",
        "            if current_day_num is None:\n",
        "                # กรณีที่ไม่ระบุวันเลย (ต้องเป็นเวลาในวันเดียวกัน)\n",
        "                day_num = 0 # ใช้ 0 ชั่วคราวเพื่อคำนวณแค่เวลาในวันนั้น\n",
        "            else:\n",
        "                day_num = current_day_num\n",
        "\n",
        "        # แยกชั่วโมง นาที วินาที (ไม่ใช้ map)\n",
        "        first_colon_idx = -1\n",
        "        second_colon_idx = -1\n",
        "        for i, char in enumerate(time_part):\n",
        "            if char == ':':\n",
        "                if first_colon_idx == -1:\n",
        "                    first_colon_idx = i\n",
        "                else:\n",
        "                    second_colon_idx = i\n",
        "                    break\n",
        "\n",
        "        h_str = time_part[0:first_colon_idx]\n",
        "        m_str = time_part[first_colon_idx+1:second_colon_idx]\n",
        "        s_str = time_part[second_colon_idx+1:]\n",
        "\n",
        "        h = int(h_str)\n",
        "        m = int(m_str)\n",
        "        s = int(s_str)\n",
        "\n",
        "        return day_num * sec_in_day + h * 3600 + m * 60 + s\n",
        "\n",
        "    try:\n",
        "        if end_str is None:\n",
        "            # กรณี end_str เป็น None: คำนวณจาก start_str ไปยังเวลาปัจจุบัน\n",
        "            # จำเป็นต้อง import datetime เพื่อดึงเวลาและวันปัจจุบัน\n",
        "            from datetime import datetime\n",
        "            now = datetime.now()\n",
        "            current_day_name = now.strftime(\"%A\")\n",
        "            current_day_num = get_day_number(current_day_name)\n",
        "            current_time_str = now.strftime(\"%H:%M:%S\")\n",
        "\n",
        "            start_total_seconds = parse_time_to_total_seconds(start_str)\n",
        "            end_total_seconds = parse_time_to_total_seconds(current_time_str, current_day_num)\n",
        "\n",
        "            start_day_part_only = start_str.split(', ')[1] if ', ' in start_str else None\n",
        "\n",
        "            if start_day_part_only is None:\n",
        "                # ถ้า start_str ไม่ได้ระบุวันมา ถือว่าอยู่คนละวันกับปัจจุบันได้\n",
        "                # จะจัดการในบรรทัดถัดไป\n",
        "                pass\n",
        "            elif current_day_num < get_day_number(start_day_part_only):\n",
        "                # ถ้าวันปัจจุบันย้อนกลับจากวันเริ่มต้น (ในรอบสัปดาห์)\n",
        "                end_total_seconds += 7 * sec_in_day\n",
        "\n",
        "            total_seconds = end_total_seconds - start_total_seconds\n",
        "            total_days = total_seconds // sec_in_day # จำนวนวันเต็ม\n",
        "            return (total_seconds, total_days)\n",
        "\n",
        "        # กรณี end_str ไม่เป็น None\n",
        "        start_day_given = ', ' in start_str\n",
        "        end_day_given = ', ' in end_str\n",
        "\n",
        "        if start_day_given and end_day_given:\n",
        "            # กรณีปกติ: มีวันในสัปดาห์ระบุมาทั้งคู่\n",
        "            start_total_seconds = parse_time_to_total_seconds(start_str)\n",
        "            end_total_seconds = parse_time_to_total_seconds(end_str)\n",
        "\n",
        "            if end_total_seconds < start_total_seconds:\n",
        "                end_total_seconds += 7 * sec_in_day # ข้ามสัปดาห์\n",
        "\n",
        "            total_seconds = end_total_seconds - start_total_seconds\n",
        "            total_days = total_seconds // sec_in_day\n",
        "            return (total_seconds, total_days)\n",
        "\n",
        "        elif not start_day_given and not end_day_given:\n",
        "            # กรณี: ไม่ระบุวันเลยทั้งคู่ (ถือว่าเป็นเวลาในวันเดียวกันและข้ามวันได้)\n",
        "            start_total_seconds = parse_time_to_total_seconds(start_str, current_day_num=0)\n",
        "            end_total_seconds = parse_time_to_total_seconds(end_str, current_day_num=0)\n",
        "\n",
        "            if end_total_seconds < start_total_seconds:\n",
        "                end_total_seconds += sec_in_day # ข้ามวัน\n",
        "\n",
        "            total_seconds = end_total_seconds - start_total_seconds\n",
        "            total_days = total_seconds // sec_in_day\n",
        "            return (total_seconds, total_days)\n",
        "\n",
        "        else:\n",
        "            # กรณีผสม: มีอันใดอันหนึ่งระบุวันมา แต่อีกอันไม่ (คลุมเครือ)\n",
        "            print(\"ข้อผิดพลาด: รูปแบบอินพุตไม่สอดคล้องกัน (ต้องระบุวันทั้งคู่ หรือไม่ระบุเลยทั้งคู่)\")\n",
        "            return None\n",
        "\n",
        "    except (ValueError, IndexError) as e:\n",
        "        print(f\"เกิดข้อผิดพลาดในการประมวลผลข้อมูล: {e}\")\n",
        "        return None"
      ],
      "metadata": {
        "id": "W4u8Ip1LgF52"
      },
      "execution_count": null,
      "outputs": []
    },
    {
      "cell_type": "code",
      "source": [
        "result1 = get_time_diff_with_days(\"12:30:15, Wednesday\", \"13:41:07, Thursday\")\n",
        "print(f\"12:30:15, Wednesday - 13:41:07, Thursday: วินาที={result1[0]}, วัน={result1[1]}\") # Output: วินาที=90652, วัน=1\n",
        "\n",
        "result2 = get_time_diff_with_days(\"16:06:09, Sunday\", \"11:11:11, Tuesday\")\n",
        "print(f\"16:06:09, Sunday - 11:11:11, Tuesday: วินาที={result2[0]}, วัน={result2[1]}\") # Output: วินาที=140702, วัน=1\n",
        "\n",
        "result3 = get_time_diff_with_days(\"12:53:15, Monday\", \"00:59:25, Tuesday\")\n",
        "print(f\"12:53:15, Monday - 00:59:25, Tuesday: วินาที={result3[0]}, วัน={result3[1]}\") # Output: วินาที=43570, วัน=0"
      ],
      "metadata": {
        "colab": {
          "base_uri": "https://localhost:8080/"
        },
        "id": "Fzt2NI81gqhw",
        "outputId": "e24ecc79-2e3d-4593-d070-736b724ac3be"
      },
      "execution_count": null,
      "outputs": [
        {
          "output_type": "stream",
          "name": "stdout",
          "text": [
            "12:30:15, Wednesday - 13:41:07, Thursday: วินาที=90652, วัน=1\n",
            "16:06:09, Sunday - 11:11:11, Tuesday: วินาที=155102, วัน=1\n",
            "12:53:15, Monday - 00:59:25, Tuesday: วินาที=43570, วัน=0\n"
          ]
        }
      ]
    },
    {
      "cell_type": "markdown",
      "source": [
        "# Quiz3.5\n",
        "\n",
        "รับ input 2 ตัว โดยตั้งค่า default time1 เป็น 00:00:00"
      ],
      "metadata": {
        "id": "GMMe5F1zgNV5"
      }
    },
    {
      "cell_type": "markdown",
      "source": [
        "## HW2\n",
        "\n",
        "วนลูป หา ช่วงเวลาเป็นวินาที ที่ห่างกันระหว่า time1 และ time2 ต่อไปนี้\n",
        "\n",
        "\n",
        "1. 18:09:10 - 18:25:10\n",
        "2. 13:38:39 - 23:54:39\n",
        "3. 16:49:58 - 18:05:58\n",
        "4. 21:49:10 - 22:24:10\n",
        "5. 08:52:21 - 09:25:21\n",
        "6. 06:56:26 - 07:49:26\n",
        "7. 12:08:05 - 12:43:05\n",
        "8. 01:48:38 - 07:18:38\n",
        "9. 08:51:21 - 10:17:21\n",
        "10. 17:05:17 - 18:09:17"
      ],
      "metadata": {
        "id": "Y60TMz5ijb_S"
      }
    },
    {
      "cell_type": "markdown",
      "source": [
        "## inspect existing function\n",
        "\n"
      ],
      "metadata": {
        "id": "u7_b5UyUj841"
      }
    },
    {
      "cell_type": "markdown",
      "source": [
        "- https://www.w3schools.com/python/ref_func_print.asp\n",
        "- https://scikit-learn.org/stable/modules/generated/sklearn.tree.DecisionTreeClassifier.html#sklearn.tree.DecisionTreeClassifier"
      ],
      "metadata": {
        "id": "5Lzmg4CMkRwT"
      }
    },
    {
      "cell_type": "code",
      "source": [
        "print('abc','def')"
      ],
      "metadata": {
        "colab": {
          "base_uri": "https://localhost:8080/"
        },
        "id": "T3zJRtlKk22C",
        "outputId": "703f4f6c-37ac-45e3-edc9-01bd913d4251"
      },
      "execution_count": null,
      "outputs": [
        {
          "output_type": "stream",
          "name": "stdout",
          "text": [
            "abc def\n"
          ]
        }
      ]
    },
    {
      "cell_type": "code",
      "source": [
        "print('abc','def', sep ='+')"
      ],
      "metadata": {
        "colab": {
          "base_uri": "https://localhost:8080/"
        },
        "id": "SYYWeBUMk-HA",
        "outputId": "c854911e-df07-4139-8820-7426b621d0dc"
      },
      "execution_count": null,
      "outputs": [
        {
          "output_type": "stream",
          "name": "stdout",
          "text": [
            "abc+def\n"
          ]
        }
      ]
    },
    {
      "cell_type": "markdown",
      "metadata": {
        "id": "UB5fTAr3bPqg"
      },
      "source": [
        "# LOOP การวนซ้ำ"
      ]
    },
    {
      "cell_type": "markdown",
      "metadata": {
        "id": "gpIwjDjg0gfJ"
      },
      "source": [
        "for เป็นคำที่ใช้บอก python ว่าเรากำลังเขียน loop\n",
        "โดย for จะวนดึงสมาชิกจาก ```listA``` มาทำ process ```do_something```"
      ]
    },
    {
      "cell_type": "markdown",
      "metadata": {
        "id": "6XS2wO4_bPqg"
      },
      "source": [
        "```python\n",
        "    for each_member in listA :\n",
        "        do_something\n",
        "```"
      ]
    },
    {
      "cell_type": "markdown",
      "metadata": {
        "id": "d7kQ2AEcbPqg"
      },
      "source": [
        "#### คำสั่ง for เป็นคำสั่งวนซ้ำที่ใช้ควบคุมการทำงานซ้ำๆ ในจำนวนรอบที่แน่นอน"
      ]
    },
    {
      "cell_type": "code",
      "metadata": {
        "colab": {
          "base_uri": "https://localhost:8080/"
        },
        "id": "NcT-s7TEbPqg",
        "outputId": "b935c6bb-7edf-49be-e7ed-da73f82330ac"
      },
      "source": [
        "for i in [1,2,3] :\n",
        "    o = i**2\n",
        "    print (f'this member = {i} after process = {o}')"
      ],
      "execution_count": 1,
      "outputs": [
        {
          "output_type": "stream",
          "name": "stdout",
          "text": [
            "this member = 1 after process = 1\n",
            "this member = 2 after process = 4\n",
            "this member = 3 after process = 9\n"
          ]
        }
      ]
    },
    {
      "cell_type": "markdown",
      "metadata": {
        "id": "YbnFaiU2bPqg"
      },
      "source": [
        "#### ตัวอย่างการใช้คำสั่ง for ในการวนซ้ำค่าของ i เมื่อ i คือ 'Thanapong' และคำสั่ง print(f'{i} -> /') เพื่อกำหนดให้ผลลัพธ์แสดงสัญลักษณ์ -> /  จากนั้นเพิ่มคำสั่ง print(' ') อีกครั้งเพื่อให้ผลลัพธ์มีการเว้นวรรค¶"
      ]
    },
    {
      "cell_type": "code",
      "metadata": {
        "id": "kstoI_CEbPqh",
        "outputId": "9b1fb7f3-c3d9-42a3-c0b2-ff8135e93ac1",
        "colab": {
          "base_uri": "https://localhost:8080/"
        }
      },
      "source": [
        "for i in 'Thanapong':\n",
        "    print(f'{i} -> /' )"
      ],
      "execution_count": 4,
      "outputs": [
        {
          "output_type": "stream",
          "name": "stdout",
          "text": [
            "T -> /\n",
            "h -> /\n",
            "a -> /\n",
            "n -> /\n",
            "a -> /\n",
            "p -> /\n",
            "o -> /\n",
            "n -> /\n",
            "g -> /\n"
          ]
        }
      ]
    },
    {
      "cell_type": "code",
      "metadata": {
        "id": "mQmh0Ip-V8qR",
        "outputId": "f56de942-5038-49d9-8967-ad1f9719200e",
        "colab": {
          "base_uri": "https://localhost:8080/"
        }
      },
      "source": [
        "for i in 'Thanapong':\n",
        "    print(f'{i} -> / ' ,end = '\\n') #สั่งให้ print แบบเว้นบรรทัด"
      ],
      "execution_count": 7,
      "outputs": [
        {
          "output_type": "stream",
          "name": "stdout",
          "text": [
            "T -> / \n",
            "h -> / \n",
            "a -> / \n",
            "n -> / \n",
            "a -> / \n",
            "p -> / \n",
            "o -> / \n",
            "n -> / \n",
            "g -> / \n"
          ]
        }
      ]
    },
    {
      "cell_type": "code",
      "source": [
        "for i in 'Thanapong':\n",
        "    print(f'{i} -> / ' ,end = ' ') #สั่งให้ print แบบ ไม่เว้นบรรทัด"
      ],
      "metadata": {
        "colab": {
          "base_uri": "https://localhost:8080/"
        },
        "id": "TVF6yATH-5Ru",
        "outputId": "da5e8b99-63d6-44b1-ef75-32b3286eb9af"
      },
      "execution_count": 6,
      "outputs": [
        {
          "output_type": "stream",
          "name": "stdout",
          "text": [
            "T -> /  h -> /  a -> /  n -> /  a -> /  p -> /  o -> /  n -> /  g -> /  "
          ]
        }
      ]
    },
    {
      "cell_type": "markdown",
      "metadata": {
        "id": "3_I0IHOqXMIr"
      },
      "source": [
        "## สร้าง list ตัวเลขแบบอัตโนมัติ  range()"
      ]
    },
    {
      "cell_type": "code",
      "metadata": {
        "id": "ensAuLXBW-0P",
        "outputId": "052c7524-b988-48c1-a7f2-3ee0edc23277",
        "colab": {
          "base_uri": "https://localhost:8080/"
        }
      },
      "source": [
        "range5_output = range(5)\n",
        "print(list(range5_output))"
      ],
      "execution_count": 9,
      "outputs": [
        {
          "output_type": "stream",
          "name": "stdout",
          "text": [
            "[0, 1, 2, 3, 4]\n"
          ]
        }
      ]
    },
    {
      "cell_type": "code",
      "metadata": {
        "id": "r8JXggPKXrEx",
        "outputId": "4f6a94ea-4caf-4cda-e68a-3aeaeb33137b",
        "colab": {
          "base_uri": "https://localhost:8080/"
        }
      },
      "source": [
        "for i in range(100):\n",
        "    print('งง',end=' ')"
      ],
      "execution_count": 10,
      "outputs": [
        {
          "output_type": "stream",
          "name": "stdout",
          "text": [
            "งง งง งง งง งง งง งง งง งง งง งง งง งง งง งง งง งง งง งง งง งง งง งง งง งง งง งง งง งง งง งง งง งง งง งง งง งง งง งง งง งง งง งง งง งง งง งง งง งง งง งง งง งง งง งง งง งง งง งง งง งง งง งง งง งง งง งง งง งง งง งง งง งง งง งง งง งง งง งง งง งง งง งง งง งง งง งง งง งง งง งง งง งง งง งง งง งง งง งง งง "
          ]
        }
      ]
    },
    {
      "cell_type": "code",
      "metadata": {
        "id": "RLvhNqw8YpKa",
        "outputId": "2bf7c07f-e115-474e-ea62-2b4a767f14af",
        "colab": {
          "base_uri": "https://localhost:8080/"
        }
      },
      "source": [
        "list(range(1,11)) #เริ่มต้นเป็นวงทึบ จบเป็นวงกลมโปร่ง เหมือน list slicing"
      ],
      "execution_count": 11,
      "outputs": [
        {
          "output_type": "execute_result",
          "data": {
            "text/plain": [
              "[1, 2, 3, 4, 5, 6, 7, 8, 9, 10]"
            ]
          },
          "metadata": {},
          "execution_count": 11
        }
      ]
    },
    {
      "cell_type": "code",
      "metadata": {
        "id": "MqXQ9NLGcW-r",
        "outputId": "d5cb877a-cd81-491a-96c2-b20251dfccd8",
        "colab": {
          "base_uri": "https://localhost:8080/"
        }
      },
      "source": [
        "list(range(-3,20,4))"
      ],
      "execution_count": 12,
      "outputs": [
        {
          "output_type": "execute_result",
          "data": {
            "text/plain": [
              "[-3, 1, 5, 9, 13, 17]"
            ]
          },
          "metadata": {},
          "execution_count": 12
        }
      ]
    },
    {
      "cell_type": "markdown",
      "source": [
        "## วนลูปโดยไม่สนใจทั้งสมาชิกและลำดับ"
      ],
      "metadata": {
        "id": "GLT2t_H0AhfI"
      }
    },
    {
      "cell_type": "code",
      "source": [
        "index = 0\n",
        "for i in 'Pawinee':\n",
        "  print(f'สมาชิกคือ {i} เป็นลำดับที่ {index}')\n",
        "  index += 1"
      ],
      "metadata": {
        "colab": {
          "base_uri": "https://localhost:8080/"
        },
        "id": "0G_P_iEvAn_h",
        "outputId": "66d158fe-d65d-429c-f034-58244c86d5da"
      },
      "execution_count": 13,
      "outputs": [
        {
          "output_type": "stream",
          "name": "stdout",
          "text": [
            "สมาชิกคือ P เป็นลำดับที่ 0\n",
            "สมาชิกคือ a เป็นลำดับที่ 1\n",
            "สมาชิกคือ w เป็นลำดับที่ 2\n",
            "สมาชิกคือ i เป็นลำดับที่ 3\n",
            "สมาชิกคือ n เป็นลำดับที่ 4\n",
            "สมาชิกคือ e เป็นลำดับที่ 5\n",
            "สมาชิกคือ e เป็นลำดับที่ 6\n"
          ]
        }
      ]
    },
    {
      "cell_type": "code",
      "source": [
        "for i,index in enumerate('Pawinee'):\n",
        "  print(f'สมาชิกคือ {i} เป็นลำดับที่ {index}')"
      ],
      "metadata": {
        "colab": {
          "base_uri": "https://localhost:8080/"
        },
        "id": "xQaS4AUXBCI4",
        "outputId": "efab0998-c62a-4b1c-f407-f4c64cbae416"
      },
      "execution_count": 14,
      "outputs": [
        {
          "output_type": "stream",
          "name": "stdout",
          "text": [
            "สมาชิกคือ 0 เป็นลำดับที่ P\n",
            "สมาชิกคือ 1 เป็นลำดับที่ a\n",
            "สมาชิกคือ 2 เป็นลำดับที่ w\n",
            "สมาชิกคือ 3 เป็นลำดับที่ i\n",
            "สมาชิกคือ 4 เป็นลำดับที่ n\n",
            "สมาชิกคือ 5 เป็นลำดับที่ e\n",
            "สมาชิกคือ 6 เป็นลำดับที่ e\n"
          ]
        }
      ]
    },
    {
      "cell_type": "markdown",
      "metadata": {
        "id": "vPcR4tJebPqi"
      },
      "source": [
        "### loop in loop\n",
        "#### สามารถใช้ for loop ซ้อนกันสองรอบได้¶"
      ]
    },
    {
      "cell_type": "code",
      "metadata": {
        "id": "TKRcpd5DbPqi",
        "outputId": "252eeb64-7cdb-4063-8de9-c62a50d3a145",
        "colab": {
          "base_uri": "https://localhost:8080/"
        }
      },
      "source": [
        "for name1 in  range(2,5): #(2, 3, 4)\n",
        "    print(f'now name1 = {name1}')\n",
        "    for name2 in  range(1,13):\n",
        "        print('  ', name1,' x ',name2,' = ',name1*name2)\n",
        "    print('the inner loop is end')"
      ],
      "execution_count": 15,
      "outputs": [
        {
          "output_type": "stream",
          "name": "stdout",
          "text": [
            "now name1 = 2\n",
            "   2  x  1  =  2\n",
            "   2  x  2  =  4\n",
            "   2  x  3  =  6\n",
            "   2  x  4  =  8\n",
            "   2  x  5  =  10\n",
            "   2  x  6  =  12\n",
            "   2  x  7  =  14\n",
            "   2  x  8  =  16\n",
            "   2  x  9  =  18\n",
            "   2  x  10  =  20\n",
            "   2  x  11  =  22\n",
            "   2  x  12  =  24\n",
            "the inner loop is end\n",
            "now name1 = 3\n",
            "   3  x  1  =  3\n",
            "   3  x  2  =  6\n",
            "   3  x  3  =  9\n",
            "   3  x  4  =  12\n",
            "   3  x  5  =  15\n",
            "   3  x  6  =  18\n",
            "   3  x  7  =  21\n",
            "   3  x  8  =  24\n",
            "   3  x  9  =  27\n",
            "   3  x  10  =  30\n",
            "   3  x  11  =  33\n",
            "   3  x  12  =  36\n",
            "the inner loop is end\n",
            "now name1 = 4\n",
            "   4  x  1  =  4\n",
            "   4  x  2  =  8\n",
            "   4  x  3  =  12\n",
            "   4  x  4  =  16\n",
            "   4  x  5  =  20\n",
            "   4  x  6  =  24\n",
            "   4  x  7  =  28\n",
            "   4  x  8  =  32\n",
            "   4  x  9  =  36\n",
            "   4  x  10  =  40\n",
            "   4  x  11  =  44\n",
            "   4  x  12  =  48\n",
            "the inner loop is end\n"
          ]
        }
      ]
    },
    {
      "cell_type": "markdown",
      "source": [
        "### Quiz 7 วนลูป แสดงค่าตัวเลขออกมาเป็นสามเหลี่ยมตามตัวอย่างดังนี้\n",
        "\n",
        "ex.\n",
        "\n",
        "1\n",
        "\n",
        "2 4\n",
        "\n",
        "3 6 9\n",
        "\n",
        "4 8 12 16\n",
        "\n",
        "5 10 15 20 25"
      ],
      "metadata": {
        "id": "W4ZtIwawCk1G"
      }
    },
    {
      "cell_type": "code",
      "source": [
        "for i in range(1, 6):  # Outer loop for rows\n",
        "    for j in range(1, i + 1):  # Inner loop for columns\n",
        "        print(i * j, end=\" \")\n",
        "    print()  # Move to the next line after each row"
      ],
      "metadata": {
        "colab": {
          "base_uri": "https://localhost:8080/"
        },
        "id": "75ORItseCikZ",
        "outputId": "e19293ef-b792-4bda-c949-a25edfb5e1f5"
      },
      "execution_count": 16,
      "outputs": [
        {
          "output_type": "stream",
          "name": "stdout",
          "text": [
            "1 \n",
            "2 4 \n",
            "3 6 9 \n",
            "4 8 12 16 \n",
            "5 10 15 20 25 \n"
          ]
        }
      ]
    },
    {
      "cell_type": "markdown",
      "metadata": {
        "id": "7-FAZit8bPqi"
      },
      "source": [
        "### loop in function\n",
        "#### การวนลูปในฟังก์ชั่น¶"
      ]
    },
    {
      "cell_type": "code",
      "metadata": {
        "id": "S0r5yhbDbPqi"
      },
      "source": [
        "def print_feelings(I,friendS,feeling = 'คิดถึง'):\n",
        "    for friend in friendS:\n",
        "        print(f'{I} {feeling} {friend}')"
      ],
      "execution_count": 17,
      "outputs": []
    },
    {
      "cell_type": "code",
      "metadata": {
        "id": "_oVKj4SRfGS6"
      },
      "source": [
        "list_friends = ['คุณหนูเบียร์','พ่อใหญ่เฟิร์ส','อ้ายสีหนุ่ม','จ่าหนึ่ง','บักโส']"
      ],
      "execution_count": 21,
      "outputs": []
    },
    {
      "cell_type": "code",
      "metadata": {
        "id": "RepVZqu6bPqi",
        "outputId": "db06b6b5-de1f-4abb-9660-6537817181c8",
        "colab": {
          "base_uri": "https://localhost:8080/"
        }
      },
      "source": [
        "print_feelings('แก้ม',list_friends)"
      ],
      "execution_count": 22,
      "outputs": [
        {
          "output_type": "stream",
          "name": "stdout",
          "text": [
            "แก้ม คิดถึง คุณหนูเบียร์\n",
            "แก้ม คิดถึง พ่อใหญ่เฟิร์ส\n",
            "แก้ม คิดถึง อ้ายสีหนุ่ม\n",
            "แก้ม คิดถึง จ่าหนึ่ง\n",
            "แก้ม คิดถึง บักโส\n"
          ]
        }
      ]
    },
    {
      "cell_type": "code",
      "metadata": {
        "id": "P20pDnVaf2vK",
        "outputId": "cd4e1e82-1f31-412f-c5e2-4109df87778a",
        "colab": {
          "base_uri": "https://localhost:8080/"
        }
      },
      "source": [
        "print_feelings('เจมส์',list_friends,feeling='รัก')"
      ],
      "execution_count": 25,
      "outputs": [
        {
          "output_type": "stream",
          "name": "stdout",
          "text": [
            "เจมส์ รัก คุณหนูเบียร์\n",
            "เจมส์ รัก พ่อใหญ่เฟิร์ส\n",
            "เจมส์ รัก อ้ายสีหนุ่ม\n",
            "เจมส์ รัก จ่าหนึ่ง\n",
            "เจมส์ รัก บักโส\n"
          ]
        }
      ]
    },
    {
      "cell_type": "code",
      "metadata": {
        "id": "SzHamL8JhKG4",
        "outputId": "eb2ed748-ea18-4daf-e7ce-135add0ad8ca",
        "colab": {
          "base_uri": "https://localhost:8080/"
        }
      },
      "source": [
        "print_feelings('แก้ม',list_friends,'ซัง')"
      ],
      "execution_count": 26,
      "outputs": [
        {
          "output_type": "stream",
          "name": "stdout",
          "text": [
            "แก้ม ซัง คุณหนูเบียร์\n",
            "แก้ม ซัง พ่อใหญ่เฟิร์ส\n",
            "แก้ม ซัง อ้ายสีหนุ่ม\n",
            "แก้ม ซัง จ่าหนึ่ง\n",
            "แก้ม ซัง บักโส\n"
          ]
        }
      ]
    },
    {
      "cell_type": "markdown",
      "source": [
        "## Dictionary (Data Structure)\n",
        "\n",
        "โครงสร้างข้อมูลที่จัดเก็บข้อมูลโดยการอ้างอิงโดย text\n",
        "\n",
        "วงเล็บ ```{``` ```}``` Curly Brackets"
      ],
      "metadata": {
        "id": "VreW55vmVRcb"
      }
    },
    {
      "cell_type": "code",
      "source": [
        "Ex_dict_A = {'memberA':[1,2,3],'memberB':8,'memberC':'abc'}"
      ],
      "metadata": {
        "id": "i-oH98ilV1RV"
      },
      "execution_count": null,
      "outputs": []
    },
    {
      "cell_type": "code",
      "source": [
        "Ex_dict_A"
      ],
      "metadata": {
        "colab": {
          "base_uri": "https://localhost:8080/"
        },
        "id": "kIwdnWuqWr58",
        "outputId": "694d94ad-5ac6-47a8-e6d6-01f62d578d9b"
      },
      "execution_count": null,
      "outputs": [
        {
          "output_type": "execute_result",
          "data": {
            "text/plain": [
              "{'memberA': [1, 2, 3], 'memberB': 8, 'memberC': 'abc'}"
            ]
          },
          "metadata": {},
          "execution_count": 2
        }
      ]
    },
    {
      "cell_type": "code",
      "source": [
        "Ex_dict_A['memberA']"
      ],
      "metadata": {
        "colab": {
          "base_uri": "https://localhost:8080/"
        },
        "id": "J4yy6oaXW4he",
        "outputId": "153013bf-f9bd-4cd9-a182-bf13744d02c7"
      },
      "execution_count": null,
      "outputs": [
        {
          "output_type": "execute_result",
          "data": {
            "text/plain": [
              "[1, 2, 3]"
            ]
          },
          "metadata": {},
          "execution_count": 5
        }
      ]
    },
    {
      "cell_type": "code",
      "source": [
        "Ex_dict_A['memberA'][1]"
      ],
      "metadata": {
        "colab": {
          "base_uri": "https://localhost:8080/"
        },
        "id": "cZjtUbdnXZK-",
        "outputId": "0eaa0d49-1a2a-41d6-bb62-7c3252df977f"
      },
      "execution_count": null,
      "outputs": [
        {
          "output_type": "execute_result",
          "data": {
            "text/plain": [
              "2"
            ]
          },
          "metadata": {},
          "execution_count": 6
        }
      ]
    },
    {
      "cell_type": "markdown",
      "metadata": {
        "id": "vwK7RmRJbPqj"
      },
      "source": [
        "### looping in dict\n",
        "#### ทำการวนลูปในค่า dict โดยที่เรากำหนดตัว key และvalueขึ้นมา ได้ดังนี้\n"
      ]
    },
    {
      "cell_type": "code",
      "metadata": {
        "id": "HI0F-4HobPqj",
        "outputId": "dabb32aa-cf59-41dd-ce88-288a67f5dcff",
        "colab": {
          "base_uri": "https://localhost:8080/"
        }
      },
      "source": [
        "name_grade = {'พันทิพา' : 'B','ศุภนิตา' : 'C','ปนัดดา' : 'A','ทรงกลด' : 'F'}\n",
        "name_grade"
      ],
      "execution_count": 27,
      "outputs": [
        {
          "output_type": "execute_result",
          "data": {
            "text/plain": [
              "{'พันทิพา': 'B', 'ศุภนิตา': 'C', 'ปนัดดา': 'A', 'ทรงกลด': 'F'}"
            ]
          },
          "metadata": {},
          "execution_count": 27
        }
      ]
    },
    {
      "cell_type": "code",
      "metadata": {
        "id": "jWf8aBmpbPqj",
        "outputId": "f11255f9-e3ef-4d7b-d06f-5e7420884a09",
        "colab": {
          "base_uri": "https://localhost:8080/",
          "height": 36
        }
      },
      "source": [
        "name_grade['ปนัดดา']"
      ],
      "execution_count": 28,
      "outputs": [
        {
          "output_type": "execute_result",
          "data": {
            "text/plain": [
              "'A'"
            ],
            "application/vnd.google.colaboratory.intrinsic+json": {
              "type": "string"
            }
          },
          "metadata": {},
          "execution_count": 28
        }
      ]
    },
    {
      "cell_type": "code",
      "source": [
        "name_grade.keys()"
      ],
      "metadata": {
        "colab": {
          "base_uri": "https://localhost:8080/"
        },
        "id": "0tXZc6kgYPgm",
        "outputId": "9e74dc13-e350-4b62-c52a-bfc6c81bdcf4"
      },
      "execution_count": 29,
      "outputs": [
        {
          "output_type": "execute_result",
          "data": {
            "text/plain": [
              "dict_keys(['พันทิพา', 'ศุภนิตา', 'ปนัดดา', 'ทรงกลด'])"
            ]
          },
          "metadata": {},
          "execution_count": 29
        }
      ]
    },
    {
      "cell_type": "code",
      "source": [
        "name_grade.values()"
      ],
      "metadata": {
        "colab": {
          "base_uri": "https://localhost:8080/"
        },
        "id": "zEqstk33YRxp",
        "outputId": "4946bc36-34ae-4e00-f758-721d7136268f"
      },
      "execution_count": 30,
      "outputs": [
        {
          "output_type": "execute_result",
          "data": {
            "text/plain": [
              "dict_values(['B', 'C', 'A', 'F'])"
            ]
          },
          "metadata": {},
          "execution_count": 30
        }
      ]
    },
    {
      "cell_type": "code",
      "metadata": {
        "scrolled": true,
        "id": "eDqhoebhbPqj",
        "outputId": "af07d7ab-7510-4372-8d30-0b0f6595946e",
        "colab": {
          "base_uri": "https://localhost:8080/"
        }
      },
      "source": [
        "for i in name_grade.keys():\n",
        "    print(i)"
      ],
      "execution_count": 31,
      "outputs": [
        {
          "output_type": "stream",
          "name": "stdout",
          "text": [
            "พันทิพา\n",
            "ศุภนิตา\n",
            "ปนัดดา\n",
            "ทรงกลด\n"
          ]
        }
      ]
    },
    {
      "cell_type": "code",
      "metadata": {
        "id": "Imvq4faObPqj",
        "outputId": "e5564ce0-754e-46bc-e616-482aab304369",
        "colab": {
          "base_uri": "https://localhost:8080/"
        }
      },
      "source": [
        "for i in name_grade.keys():\n",
        "    print(f'{i} ได้เกรด {name_grade[i]}')"
      ],
      "execution_count": 32,
      "outputs": [
        {
          "output_type": "stream",
          "name": "stdout",
          "text": [
            "พันทิพา ได้เกรด B\n",
            "ศุภนิตา ได้เกรด C\n",
            "ปนัดดา ได้เกรด A\n",
            "ทรงกลด ได้เกรด F\n"
          ]
        }
      ]
    },
    {
      "cell_type": "markdown",
      "source": [
        "## HW2 Example"
      ],
      "metadata": {
        "id": "CrnK1_WPaYv7"
      }
    },
    {
      "cell_type": "code",
      "source": [
        "time_list =  [\n",
        "    [\"18:09:10\", \"18:25:10\"],\n",
        "    [\"13:38:39\", \"23:54:39\"],\n",
        "    [\"16:49:58\", \"18:05:58\"],\n",
        "    [\"21:49:10\", \"22:24:10\"],\n",
        "    [\"08:52:21\", \"09:25:21\"],\n",
        "    [\"06:56:26\", \"07:49:26\"],\n",
        "    [\"12:08:05\", \"12:43:05\"],\n",
        "    [\"01:48:38\", \"07:18:38\"],\n",
        "    [\"08:51:21\", \"10:17:21\"],\n",
        "    [\"17:05:17\", \"18:09:17\"]]\n",
        "\n",
        "def time_to_second(time1,time2):\n",
        "    time1_list = time1.split(':')\n",
        "    time2_list = time2.split(':')\n",
        "    time1_sec = int(time1_list[0])*3600 + int(time1_list[1])*60 + int(time1_list[2])\n",
        "    time2_sec = int(time2_list[0])*3600 + int(time2_list[1])*60 + int(time2_list[2])\n",
        "    return(time2_sec - time1_sec)\n",
        "\n",
        "for time1,time2 in time_list:\n",
        "  diff_seconds = time_to_second(time1,time2)\n",
        "  print(f\"Time difference between {time1} - {time2} is {diff_seconds} seconds\")"
      ],
      "metadata": {
        "colab": {
          "base_uri": "https://localhost:8080/"
        },
        "id": "BqYhLFc5aYa2",
        "outputId": "825e1a7c-f359-44cc-9e02-160670dc983c"
      },
      "execution_count": null,
      "outputs": [
        {
          "output_type": "stream",
          "name": "stdout",
          "text": [
            "Time difference between 18:09:10 - 18:25:10 is 960 seconds\n",
            "Time difference between 13:38:39 - 23:54:39 is 36960 seconds\n",
            "Time difference between 16:49:58 - 18:05:58 is 4560 seconds\n",
            "Time difference between 21:49:10 - 22:24:10 is 2100 seconds\n",
            "Time difference between 08:52:21 - 09:25:21 is 1980 seconds\n",
            "Time difference between 06:56:26 - 07:49:26 is 3180 seconds\n",
            "Time difference between 12:08:05 - 12:43:05 is 2100 seconds\n",
            "Time difference between 01:48:38 - 07:18:38 is 19800 seconds\n",
            "Time difference between 08:51:21 - 10:17:21 is 5160 seconds\n",
            "Time difference between 17:05:17 - 18:09:17 is 3840 seconds\n"
          ]
        }
      ]
    },
    {
      "cell_type": "code",
      "source": [
        "time1 = \"18:09:10\"\n",
        "time2 = \"00:25:10\"\n",
        "diff_seconds = time_to_second(time1,time2)\n",
        "print(f\"Time difference between {time1} - {time2} is {diff_seconds} seconds\")"
      ],
      "metadata": {
        "colab": {
          "base_uri": "https://localhost:8080/"
        },
        "id": "lbz-CNPlbGYq",
        "outputId": "31befb8b-40ae-47b0-876d-a94e7ecfe760"
      },
      "execution_count": null,
      "outputs": [
        {
          "output_type": "stream",
          "name": "stdout",
          "text": [
            "Time difference between 18:09:10 - 00:25:10 is -63840 seconds\n"
          ]
        }
      ]
    },
    {
      "cell_type": "markdown",
      "source": [
        "# ตัวอย่าง quiz 6"
      ],
      "metadata": {
        "id": "lCpIYmztQH-N"
      }
    },
    {
      "cell_type": "code",
      "source": [
        "# prompt: สร้าง function คำนวณจำนวน วินาที ที่แตกต่างระหว่าง input hh:mm:ss, day of the week 2 ค่า\n",
        "\n",
        "from datetime import datetime\n",
        "\n",
        "def get_seconds_diff_with_days(start_time_str, end_time_str):\n",
        "    \"\"\"\n",
        "    คำนวณจำนวนวินาทีที่แตกต่างระหว่างวันเวลาเริ่มต้นและสิ้นสุด\n",
        "    ในรูปแบบ \"HH:MM:SS, DayOfWeek\"\n",
        "\n",
        "    Args:\n",
        "        start_time_str (str): สตริงวันเวลาเริ่มต้น\n",
        "        end_time_str (str): สตริงวันเวลาสิ้นสุด\n",
        "\n",
        "    Returns:\n",
        "        int: จำนวนวินาทีทั้งหมด หรือ None หากเกิดข้อผิดพลาด\n",
        "    \"\"\"\n",
        "    sec_in_day = 24 * 3600  # วินาทีใน 1 วัน\n",
        "\n",
        "    # ไม่ใช้ dictionary หรือ map สำหรับแปลงชื่อวันเป็นตัวเลข\n",
        "    def get_day_number(day_name):\n",
        "        # แปลงชื่อวันในสัปดาห์เป็นตัวเลข (0=Monday, 6=Sunday)\n",
        "        # ใช้ if-elif-else แทน dictionary หรือ map\n",
        "        if day_name == \"Monday\": return 0\n",
        "        elif day_name == \"Tuesday\": return 1\n",
        "        elif day_name == \"Wednesday\": return 2\n",
        "        elif day_name == \"Thursday\": return 3\n",
        "        elif day_name == \"Friday\": return 4\n",
        "        elif day_name == \"Saturday\": return 5\n",
        "        elif day_name == \"Sunday\": return 6\n",
        "        else: return -1  # ค่าผิดพลาดสำหรับชื่อวันที่ไม่ถูกต้อง\n",
        "\n",
        "    def parse_time_day_string(time_day_string):\n",
        "        # แยกส่วนเวลาและส่วนวันโดยการค้นหาตำแหน่งของ \", \"\n",
        "        comma_index = -1\n",
        "        for i in range(len(time_day_string) - 2):\n",
        "            if time_day_string[i:i+2] == ', ':\n",
        "                comma_index = i\n",
        "                break\n",
        "\n",
        "        if comma_index == -1:\n",
        "             raise ValueError(\"รูปแบบอินพุตไม่ถูกต้อง: ไม่พบ ', ' เพื่อแยกเวลาและวัน\")\n",
        "\n",
        "        time_part = time_day_string[:comma_index]\n",
        "        day_part = time_day_string[comma_index + 2:]\n",
        "\n",
        "        # แยกชั่วโมง นาที วินาทีด้วยการค้นหาตำแหน่ง ':' (ไม่ใช้ split)\n",
        "        first_colon_idx = -1\n",
        "        second_colon_idx = -1\n",
        "        for i, char in enumerate(time_part):\n",
        "            if char == ':':\n",
        "                if first_colon_idx == -1:\n",
        "                    first_colon_idx = i\n",
        "                else:\n",
        "                    second_colon_idx = i\n",
        "                    break\n",
        "\n",
        "        if first_colon_idx == -1 or second_colon_idx == -1:\n",
        "             raise ValueError(\"รูปแบบเวลาไม่ถูกต้อง: ต้องอยู่ในรูปแบบ HH:MM:SS\")\n",
        "\n",
        "        # ดึงส่วนของชั่วโมง นาที วินาทีออกมา (ไม่ใช้ slicing โดยตรงถ้าต้องการหลีกเลี่ยง)\n",
        "        # แต่วิธีที่ง่ายที่สุดคือ slicing\n",
        "        h_str = time_part[:first_colon_idx]\n",
        "        m_str = time_part[first_colon_idx + 1:second_colon_idx]\n",
        "        s_str = time_part[second_colon_idx + 1:]\n",
        "\n",
        "        # แปลงเป็นจำนวนเต็ม\n",
        "        h = int(h_str)\n",
        "        m = int(m_str)\n",
        "        s = int(s_str)\n",
        "\n",
        "        # แปลงชื่อวันเป็นตัวเลข\n",
        "        day_num = get_day_number(day_part)\n",
        "        if day_num == -1:\n",
        "            raise ValueError(f\"ชื่อวันไม่ถูกต้อง: {day_part}\")\n",
        "\n",
        "        # คำนวณวินาทีรวมจากเริ่มต้นสัปดาห์\n",
        "        return day_num * sec_in_day + h * 3600 + m * 60 + s\n",
        "\n",
        "    try:\n",
        "        start_total_seconds = parse_time_day_string(start_time_str)\n",
        "        end_total_seconds = parse_time_day_string(end_time_str)\n",
        "\n",
        "        # จัดการกรณีที่เวลาสิ้นสุดน้อยกว่าเวลาเริ่มต้น (ข้ามสัปดาห์)\n",
        "        if end_total_seconds < start_total_seconds:\n",
        "            # เพิ่มจำนวนวินาทีของ 1 สัปดาห์\n",
        "            end_total_seconds += 7 * sec_in_day\n",
        "\n",
        "        return end_total_seconds - start_total_seconds\n",
        "\n",
        "    except (ValueError, IndexError) as e:\n",
        "        print(f\"เกิดข้อผิดพลาดในการประมวลผลข้อมูล: {e}\")\n",
        "        return None\n",
        "\n",
        "# ตัวอย่างการใช้งาน:\n",
        "print(f'ช่วงเวลาคือ {get_seconds_diff_with_days(\"12:30:15, Wednesday\", \"13:41:07, Thursday\")} วินาที')\n",
        "print(f'ช่วงเวลาคือ {get_seconds_diff_with_days(\"16:06:09, Sunday\", \"11:11:11, Tuesday\")} วินาที')\n",
        "print(f'ช่วงเวลาคือ {get_seconds_diff_with_days(\"12:53:15, Monday\", \"00:59:25, Tuesday\")} วินาที')\n",
        "```"
      ],
      "metadata": {
        "id": "Zi5lFOp0QNm0"
      },
      "execution_count": null,
      "outputs": []
    },
    {
      "cell_type": "markdown",
      "source": [
        "# HW3 เพิ่ม loop เข้าไปใน Quiz 6 โดยวนลูป คำนวณ วินาที ในโจทย์ ต่อไปนี้\n",
        "\n",
        "\n",
        "\n",
        "```\n",
        "# This is formatted as code\n",
        "```\n",
        "\n"
      ],
      "metadata": {
        "id": "No2Eu5akSmQW"
      }
    },
    {
      "cell_type": "code",
      "source": [],
      "metadata": {
        "id": "EYkONXuaS_vb"
      },
      "execution_count": null,
      "outputs": []
    },
    {
      "cell_type": "markdown",
      "metadata": {
        "id": "pLDGW8IobPqk"
      },
      "source": [
        "# Conditional statemet คือ ประโยคเงื่อนไข"
      ]
    },
    {
      "cell_type": "markdown",
      "source": [
        "ชนิดตัวแปรที่เกี่ยวข้อ Boolean (True,False)"
      ],
      "metadata": {
        "id": "TvK12jMwcVp8"
      }
    },
    {
      "cell_type": "code",
      "source": [
        "condition_1 = True\n",
        "condition_2 = False"
      ],
      "metadata": {
        "id": "JWxlKa-icUk6"
      },
      "execution_count": null,
      "outputs": []
    },
    {
      "cell_type": "markdown",
      "metadata": {
        "id": "8_-zCLkrbPqk"
      },
      "source": [
        "### การวนลูปโดยมีเงื่อนไขต่างๆมาเกี่ยวข้อง โดยมี pattern ดังนี้\n"
      ]
    },
    {
      "cell_type": "markdown",
      "metadata": {
        "id": "ZQuWb-bybPqk"
      },
      "source": [
        "```Python\n",
        "if condition1 :\n",
        "    do something\n",
        "elif condition2 :  #elif คือ else if\n",
        "    do another thing\n",
        "else:\n",
        "    do ...\n",
        "```\n",
        "    "
      ]
    },
    {
      "cell_type": "markdown",
      "metadata": {
        "id": "kUPdCRG7bPqk"
      },
      "source": [
        "## ==, !=,>=,<=,<,> Operator ของตัวเลข"
      ]
    },
    {
      "cell_type": "code",
      "source": [
        "def time_to_second(time1):\n",
        "    time1_list = time1.split(':')\n",
        "    time1_sec = int(time1_list[0])*3600 + int(time1_list[1])*60 + int(time1_list[2])\n",
        "    return time1_sec"
      ],
      "metadata": {
        "id": "9NIOIupSd_Zn"
      },
      "execution_count": null,
      "outputs": []
    },
    {
      "cell_type": "code",
      "source": [
        "time_list =  [\n",
        "    [\"18:09:10\", \"18:25:10\"],\n",
        "    [\"13:38:39\", \"23:54:39\"],[\"16:49:58\", \"18:05:58\"],\n",
        "    [\"21:49:10\", \"22:24:10\"],[\"08:52:21\", \"09:25:21\"],\n",
        "    [\"06:56:26\", \"07:49:26\"],[\"12:08:05\", \"12:43:05\"],\n",
        "    [\"01:48:38\", \"07:18:38\"],[\"08:51:21\", \"10:17:21\"],\n",
        "    [\"17:05:17\", \"18:09:17\"],[\"18:51:21\", \"00:17:21\"],\n",
        "    [\"17:05:17\", \"11:09:17\"],]"
      ],
      "metadata": {
        "id": "CYcYQJ45d8Wx"
      },
      "execution_count": null,
      "outputs": []
    },
    {
      "cell_type": "code",
      "source": [
        "for time1,time2 in time_list:\n",
        "\n",
        "    if time_to_second(time1) < time_to_second(time2): #ถ้า time1 น้อยกว่า time2\n",
        "        diff_seconds = time_to_second(time2) - time_to_second(time1)\n",
        "    else: #ถ้า time1 ไม่น้อยกว่า time2\n",
        "        diff_seconds = (time_to_second(time2)+(24*60*60)) - time_to_second(time1)\n",
        "\n",
        "    print(f\"Time difference between {time1} - {time2} is {diff_seconds} seconds\")"
      ],
      "metadata": {
        "colab": {
          "base_uri": "https://localhost:8080/"
        },
        "id": "sv-1il2_dmvv",
        "outputId": "50f45721-6ca1-4fc0-f786-ec748affb410"
      },
      "execution_count": null,
      "outputs": [
        {
          "output_type": "stream",
          "name": "stdout",
          "text": [
            "Time difference between 18:09:10 - 18:25:10 is 960 seconds\n",
            "Time difference between 13:38:39 - 23:54:39 is 36960 seconds\n",
            "Time difference between 16:49:58 - 18:05:58 is 4560 seconds\n",
            "Time difference between 21:49:10 - 22:24:10 is 2100 seconds\n",
            "Time difference between 08:52:21 - 09:25:21 is 1980 seconds\n",
            "Time difference between 06:56:26 - 07:49:26 is 3180 seconds\n",
            "Time difference between 12:08:05 - 12:43:05 is 2100 seconds\n",
            "Time difference between 01:48:38 - 07:18:38 is 19800 seconds\n",
            "Time difference between 08:51:21 - 10:17:21 is 5160 seconds\n",
            "Time difference between 17:05:17 - 18:09:17 is 3840 seconds\n",
            "Time difference between 18:51:21 - 00:17:21 is 19560 seconds\n",
            "Time difference between 17:05:17 - 11:09:17 is 65040 seconds\n"
          ]
        }
      ]
    },
    {
      "cell_type": "markdown",
      "source": [
        "# HW3 เพิ่ม ฟังก์ชั่นแปลงวินาทีกลับมาเป็น ชั่วโมง นาที วินาที โดยไม่ใช่ฟังก์ชั่นช่วยเหลืออื่นๆของ python (~~import~~) ถ้าส่วนของ ชั่วโมง นาที วินาที เป็นศูนย์ ไม่ต้องแสดง"
      ],
      "metadata": {
        "id": "JMvgwO7tgxSZ"
      }
    },
    {
      "cell_type": "markdown",
      "metadata": {
        "id": "sSySEFHNbPql"
      },
      "source": [
        "# HW 4\n",
        "#### เขียน function ตัดเกรด โดยที่ input เป็นคะแนน(0-100) , output เป็นเกรด (F-A)\n",
        "#### วนลูปตัดเกรด input = [1,50,65,90,101,-5,49]"
      ]
    },
    {
      "cell_type": "markdown",
      "metadata": {
        "id": "c3TDhZHzbPqm"
      },
      "source": [
        "##### กำหนด\n",
        "      ถ้าคะแนนอยู่ระหว่างมากกว่าหรือเท่ากับ  0  แต่น้อยกว่า 50 จะได้เกรด F\n",
        "      ถ้าคะแนนอยู่ระหว่างมากกว่าหรือเท่ากับ 50 แต่น้อยกว่า 55 จะได้เกรด D\n",
        "      ถ้าคะแนนอยู่ระหว่างมากกว่าหรือเท่ากับ 55 แต่น้อยกว่า 60 จะได้เกรด D+\n",
        "      ถ้าคะแนนอยู่ระหว่างมากกว่าหรือเท่ากับ 60 แต่น้อยกว่า 65 จะได้เกรด C\n",
        "      ถ้าคะแนนอยู่ระหว่างมากกว่าหรือเท่ากับ 65 แต่น้อยกว่า 70 จะได้เกรด C+\n",
        "      ถ้าคะแนนอยู่ระหว่างมากกว่าหรือเท่ากับ 70 แต่น้อยกว่า 75 จะได้เกรด B\n",
        "      ถ้าคะแนนอยู่ระหว่างมากกว่าหรือเท่ากับ 75 แต่น้อยกว่า 80 จะได้เกรด B+\n",
        "      ถ้าคะแนนอยู่ระหว่างมากกว่าหรือเท่ากับ 80  จะได้เกรด A\n",
        "      แต่ว่าค่าคะแนนจะต้องไม่ต่ำกว่า 0 และมากกว่า 100 ไม่งั้นจะเกิด error"
      ]
    },
    {
      "cell_type": "markdown",
      "source": [
        "## ```&```, ```|```, ```in```, ```is```   :  Operator อื่นๆ"
      ],
      "metadata": {
        "id": "HSMQXdmmipMp"
      }
    },
    {
      "cell_type": "code",
      "source": [
        "if (1>0) & (0>-1):\n",
        "    print(True & True)"
      ],
      "metadata": {
        "id": "ES5d1z0ti306",
        "outputId": "4bc178b2-a5d8-4476-e02c-c87ddd5b91ce",
        "colab": {
          "base_uri": "https://localhost:8080/"
        }
      },
      "execution_count": null,
      "outputs": [
        {
          "output_type": "stream",
          "name": "stdout",
          "text": [
            "True\n"
          ]
        }
      ]
    },
    {
      "cell_type": "code",
      "source": [
        "if 'T' in 'Thanapong':\n",
        "    print('T in Thanapong')"
      ],
      "metadata": {
        "id": "3COnyOTKipAc",
        "outputId": "d50e2919-9cbc-41fb-d20f-6e5a371ebba1",
        "colab": {
          "base_uri": "https://localhost:8080/"
        }
      },
      "execution_count": null,
      "outputs": [
        {
          "output_type": "stream",
          "name": "stdout",
          "text": [
            "T in Thanapong\n"
          ]
        }
      ]
    },
    {
      "cell_type": "code",
      "source": [
        "def return_nothing(x):\n",
        "    x = x+1"
      ],
      "metadata": {
        "id": "01N3TOG9k3ti"
      },
      "execution_count": null,
      "outputs": []
    },
    {
      "cell_type": "code",
      "source": [
        "a = return_nothing(5)"
      ],
      "metadata": {
        "id": "drWbuBwNldOL"
      },
      "execution_count": null,
      "outputs": []
    },
    {
      "cell_type": "code",
      "source": [
        "if a is None:\n",
        "    print('x is null')"
      ],
      "metadata": {
        "id": "pOj0pkEEkbuW",
        "outputId": "29d5bf18-d242-40f3-a542-26c39aa2fcca",
        "colab": {
          "base_uri": "https://localhost:8080/"
        }
      },
      "execution_count": null,
      "outputs": [
        {
          "output_type": "stream",
          "name": "stdout",
          "text": [
            "x is null\n"
          ]
        }
      ]
    },
    {
      "cell_type": "code",
      "source": [],
      "metadata": {
        "id": "y1ET-H8ylyxP"
      },
      "execution_count": null,
      "outputs": []
    },
    {
      "cell_type": "markdown",
      "metadata": {
        "id": "Bg3vVE3GbPqn"
      },
      "source": [
        "# Finish"
      ]
    },
    {
      "cell_type": "code",
      "metadata": {
        "id": "5a0b8ffc"
      },
      "source": [
        "for i in range(1, 6):  # Outer loop for rows\n",
        "    for j in range(1, i + 1):  # Inner loop for columns\n",
        "        print(i * j, end=\" \")\n",
        "    print()  # Move to the next line after each row"
      ],
      "execution_count": null,
      "outputs": []
    }
  ]
}