{
  "nbformat": 4,
  "nbformat_minor": 0,
  "metadata": {
    "colab": {
      "provenance": [],
      "toc_visible": true,
      "authorship_tag": "ABX9TyMOLLvUsrHZNU4SbfuWGZZQ",
      "include_colab_link": true
    },
    "kernelspec": {
      "name": "python3",
      "display_name": "Python 3"
    },
    "language_info": {
      "name": "python"
    }
  },
  "cells": [
    {
      "cell_type": "markdown",
      "metadata": {
        "id": "view-in-github",
        "colab_type": "text"
      },
      "source": [
        "<a href=\"https://colab.research.google.com/github/MeeGyo/dataviz2025/blob/main/My_first_python_code.ipynb\" target=\"_parent\"><img src=\"https://colab.research.google.com/assets/colab-badge.svg\" alt=\"Open In Colab\"/></a>"
      ]
    },
    {
      "cell_type": "markdown",
      "source": [
        "Here we can write using **markdown**\n",
        "\n",
        "# intro"
      ],
      "metadata": {
        "id": "I6m0EAmTHwCo"
      }
    },
    {
      "cell_type": "markdown",
      "source": [
        "## name"
      ],
      "metadata": {
        "id": "iNmVWEMBIaZR"
      }
    },
    {
      "cell_type": "code",
      "source": [
        "print(\"Pawinee\")"
      ],
      "metadata": {
        "colab": {
          "base_uri": "https://localhost:8080/"
        },
        "id": "CeeARGinIfk-",
        "outputId": "722c3fd5-54b3-4d9c-eb85-3d64967ccf2c"
      },
      "execution_count": 1,
      "outputs": [
        {
          "output_type": "stream",
          "name": "stdout",
          "text": [
            "Pawinee\n"
          ]
        }
      ]
    },
    {
      "cell_type": "markdown",
      "source": [
        "## surname"
      ],
      "metadata": {
        "id": "K8YOF09zIL3U"
      }
    },
    {
      "cell_type": "code",
      "execution_count": 3,
      "metadata": {
        "colab": {
          "base_uri": "https://localhost:8080/"
        },
        "id": "pGTScRCbGVCb",
        "outputId": "1c76bf78-159b-4032-a728-69766d0ef25f"
      },
      "outputs": [
        {
          "output_type": "stream",
          "name": "stdout",
          "text": [
            "Noseeda\n"
          ]
        }
      ],
      "source": [
        "print('Noseeda')"
      ]
    },
    {
      "cell_type": "code",
      "source": [],
      "metadata": {
        "id": "JS_VzgSUJVxe"
      },
      "execution_count": null,
      "outputs": []
    }
  ]
}